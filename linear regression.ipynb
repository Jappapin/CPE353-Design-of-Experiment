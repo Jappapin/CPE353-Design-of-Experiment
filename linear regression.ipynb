{
 "cells": [
  {
   "cell_type": "markdown",
   "id": "6ef9471b",
   "metadata": {
    "id": "6ef9471b"
   },
   "source": [
    "## Homework I (Group of Five or less): Linear Regression"
   ]
  },
  {
   "cell_type": "markdown",
   "id": "ee21dacf",
   "metadata": {
    "id": "ee21dacf"
   },
   "source": [
    "### 1. The tensile strength of a paper product is related to the amount of hardwood in the pulp. Ten samples are produced in the pilot plant, and the data obtained are shown in the following table."
   ]
  },
  {
   "cell_type": "code",
   "execution_count": 3,
   "id": "1778d333",
   "metadata": {
    "colab": {
     "base_uri": "https://localhost:8080/",
     "height": 357
    },
    "id": "1778d333",
    "outputId": "4526267a-38a3-41f4-fd2e-4a31fb8ca3ad"
   },
   "outputs": [
    {
     "data": {
      "text/html": [
       "<div>\n",
       "<style scoped>\n",
       "    .dataframe tbody tr th:only-of-type {\n",
       "        vertical-align: middle;\n",
       "    }\n",
       "\n",
       "    .dataframe tbody tr th {\n",
       "        vertical-align: top;\n",
       "    }\n",
       "\n",
       "    .dataframe thead th {\n",
       "        text-align: right;\n",
       "    }\n",
       "</style>\n",
       "<table border=\"1\" class=\"dataframe\">\n",
       "  <thead>\n",
       "    <tr style=\"text-align: right;\">\n",
       "      <th></th>\n",
       "      <th>Strength</th>\n",
       "      <th>Percent_Hardwood</th>\n",
       "    </tr>\n",
       "  </thead>\n",
       "  <tbody>\n",
       "    <tr>\n",
       "      <th>0</th>\n",
       "      <td>160</td>\n",
       "      <td>10</td>\n",
       "    </tr>\n",
       "    <tr>\n",
       "      <th>1</th>\n",
       "      <td>171</td>\n",
       "      <td>15</td>\n",
       "    </tr>\n",
       "    <tr>\n",
       "      <th>2</th>\n",
       "      <td>175</td>\n",
       "      <td>15</td>\n",
       "    </tr>\n",
       "    <tr>\n",
       "      <th>3</th>\n",
       "      <td>182</td>\n",
       "      <td>20</td>\n",
       "    </tr>\n",
       "    <tr>\n",
       "      <th>4</th>\n",
       "      <td>184</td>\n",
       "      <td>20</td>\n",
       "    </tr>\n",
       "    <tr>\n",
       "      <th>5</th>\n",
       "      <td>181</td>\n",
       "      <td>20</td>\n",
       "    </tr>\n",
       "    <tr>\n",
       "      <th>6</th>\n",
       "      <td>188</td>\n",
       "      <td>25</td>\n",
       "    </tr>\n",
       "    <tr>\n",
       "      <th>7</th>\n",
       "      <td>193</td>\n",
       "      <td>25</td>\n",
       "    </tr>\n",
       "    <tr>\n",
       "      <th>8</th>\n",
       "      <td>195</td>\n",
       "      <td>28</td>\n",
       "    </tr>\n",
       "    <tr>\n",
       "      <th>9</th>\n",
       "      <td>200</td>\n",
       "      <td>30</td>\n",
       "    </tr>\n",
       "  </tbody>\n",
       "</table>\n",
       "</div>"
      ],
      "text/plain": [
       "   Strength  Percent_Hardwood\n",
       "0       160                10\n",
       "1       171                15\n",
       "2       175                15\n",
       "3       182                20\n",
       "4       184                20\n",
       "5       181                20\n",
       "6       188                25\n",
       "7       193                25\n",
       "8       195                28\n",
       "9       200                30"
      ]
     },
     "execution_count": 3,
     "metadata": {},
     "output_type": "execute_result"
    }
   ],
   "source": [
    "import pandas as pd\n",
    "tensile_dict = {'Strength' : [160, 171, 175, 182, 184, 181, 188, 193, 195, 200], \n",
    "                'Percent_Hardwood' : [10, 15, 15, 20, 20, 20, 25, 25, 28, 30] }\n",
    "tensile_data = pd.DataFrame(data=tensile_dict)\n",
    "tensile_data.head(10)"
   ]
  },
  {
   "cell_type": "markdown",
   "id": "8c7d9691",
   "metadata": {
    "id": "8c7d9691"
   },
   "source": [
    "### (a) Fit a linear regression model relating strength topercent hardwood."
   ]
  },
  {
   "cell_type": "code",
   "execution_count": 4,
   "id": "76e03ebb",
   "metadata": {
    "colab": {
     "base_uri": "https://localhost:8080/"
    },
    "id": "76e03ebb",
    "outputId": "22e681ef-42e0-46fd-f0b4-e14cf2f1436a"
   },
   "outputs": [
    {
     "data": {
      "text/plain": [
       "Intercept           143.824385\n",
       "Percent_Hardwood      1.878635\n",
       "dtype: float64"
      ]
     },
     "execution_count": 4,
     "metadata": {},
     "output_type": "execute_result"
    }
   ],
   "source": [
    "from statsmodels.formula.api import ols\n",
    "\n",
    "formula = 'Strength ~ Percent_Hardwood'\n",
    "#formula = 'Strength ~ Percent_Hardwood - 1'\n",
    "\n",
    "tensile_lm = ols(formula, data=tensile_data).fit()\n",
    "tensile_lm.params"
   ]
  },
  {
   "cell_type": "markdown",
   "id": "9898208a",
   "metadata": {
    "id": "9898208a"
   },
   "source": [
    "### (b) Test the model in part (a) for significance of regression."
   ]
  },
  {
   "cell_type": "code",
   "execution_count": 5,
   "id": "25d8352c",
   "metadata": {
    "colab": {
     "base_uri": "https://localhost:8080/",
     "height": 341
    },
    "id": "25d8352c",
    "outputId": "23ef2db0-6df3-4a72-f2db-4b8c9d62a1b5"
   },
   "outputs": [
    {
     "name": "stderr",
     "output_type": "stream",
     "text": [
      "C:\\Users\\USER\\AppData\\Roaming\\Python\\Python38\\site-packages\\scipy\\stats\\stats.py:1541: UserWarning: kurtosistest only valid for n>=20 ... continuing anyway, n=10\n",
      "  warnings.warn(\"kurtosistest only valid for n>=20 ... continuing \"\n"
     ]
    },
    {
     "data": {
      "text/html": [
       "<table class=\"simpletable\">\n",
       "<tr>\n",
       "        <td>Model:</td>               <td>OLS</td>         <td>Adj. R-squared:</td>     <td>0.966</td> \n",
       "</tr>\n",
       "<tr>\n",
       "  <td>Dependent Variable:</td>     <td>Strength</td>            <td>AIC:</td>          <td>45.9456</td>\n",
       "</tr>\n",
       "<tr>\n",
       "         <td>Date:</td>        <td>2021-09-11 15:49</td>        <td>BIC:</td>          <td>46.5507</td>\n",
       "</tr>\n",
       "<tr>\n",
       "   <td>No. Observations:</td>         <td>10</td>          <td>Log-Likelihood:</td>    <td>-20.973</td>\n",
       "</tr>\n",
       "<tr>\n",
       "       <td>Df Model:</td>              <td>1</td>           <td>F-statistic:</td>       <td>260.0</td> \n",
       "</tr>\n",
       "<tr>\n",
       "     <td>Df Residuals:</td>            <td>8</td>        <td>Prob (F-statistic):</td> <td>2.20e-07</td>\n",
       "</tr>\n",
       "<tr>\n",
       "      <td>R-squared:</td>            <td>0.970</td>            <td>Scale:</td>         <td>4.8541</td> \n",
       "</tr>\n",
       "</table>\n",
       "<table class=\"simpletable\">\n",
       "<tr>\n",
       "          <td></td>           <th>Coef.</th>  <th>Std.Err.</th>    <th>t</th>     <th>P>|t|</th>  <th>[0.025</th>   <th>0.975]</th> \n",
       "</tr>\n",
       "<tr>\n",
       "  <th>Intercept</th>        <td>143.8244</td>  <td>2.5215</td>  <td>57.0386</td> <td>0.0000</td> <td>138.0097</td> <td>149.6390</td>\n",
       "</tr>\n",
       "<tr>\n",
       "  <th>Percent_Hardwood</th>  <td>1.8786</td>   <td>0.1165</td>  <td>16.1245</td> <td>0.0000</td>  <td>1.6100</td>   <td>2.1473</td> \n",
       "</tr>\n",
       "</table>\n",
       "<table class=\"simpletable\">\n",
       "<tr>\n",
       "     <td>Omnibus:</td>    <td>1.211</td>  <td>Durbin-Watson:</td>   <td>2.132</td>\n",
       "</tr>\n",
       "<tr>\n",
       "  <td>Prob(Omnibus):</td> <td>0.546</td> <td>Jarque-Bera (JB):</td> <td>0.701</td>\n",
       "</tr>\n",
       "<tr>\n",
       "       <td>Skew:</td>     <td>0.157</td>     <td>Prob(JB):</td>     <td>0.704</td>\n",
       "</tr>\n",
       "<tr>\n",
       "     <td>Kurtosis:</td>   <td>1.742</td>  <td>Condition No.:</td>    <td>78</td>  \n",
       "</tr>\n",
       "</table>"
      ],
      "text/plain": [
       "<class 'statsmodels.iolib.summary2.Summary'>\n",
       "\"\"\"\n",
       "                  Results: Ordinary least squares\n",
       "===================================================================\n",
       "Model:                OLS              Adj. R-squared:     0.966   \n",
       "Dependent Variable:   Strength         AIC:                45.9456 \n",
       "Date:                 2021-09-11 15:49 BIC:                46.5507 \n",
       "No. Observations:     10               Log-Likelihood:     -20.973 \n",
       "Df Model:             1                F-statistic:        260.0   \n",
       "Df Residuals:         8                Prob (F-statistic): 2.20e-07\n",
       "R-squared:            0.970            Scale:              4.8541  \n",
       "-------------------------------------------------------------------\n",
       "                  Coef.   Std.Err.    t    P>|t|   [0.025   0.975] \n",
       "-------------------------------------------------------------------\n",
       "Intercept        143.8244   2.5215 57.0386 0.0000 138.0097 149.6390\n",
       "Percent_Hardwood   1.8786   0.1165 16.1245 0.0000   1.6100   2.1473\n",
       "-------------------------------------------------------------------\n",
       "Omnibus:                1.211        Durbin-Watson:           2.132\n",
       "Prob(Omnibus):          0.546        Jarque-Bera (JB):        0.701\n",
       "Skew:                   0.157        Prob(JB):                0.704\n",
       "Kurtosis:               1.742        Condition No.:           78   \n",
       "===================================================================\n",
       "\n",
       "\"\"\""
      ]
     },
     "execution_count": 5,
     "metadata": {},
     "output_type": "execute_result"
    }
   ],
   "source": [
    "tensile_lm.summary2()"
   ]
  },
  {
   "cell_type": "markdown",
   "id": "UYA-UxS7FdBj",
   "metadata": {
    "id": "UYA-UxS7FdBj"
   },
   "source": [
    "### จะเห็นว่า Prob (F-statistic) มีค่าเท่ากับ 2.20e-07 ซึ่งมีค่าน้อยกว่า 0.05 จึงแสดงว่า Model นี้ significance"
   ]
  },
  {
   "cell_type": "markdown",
   "id": "d25994f5",
   "metadata": {
    "id": "d25994f5"
   },
   "source": [
    "### (c) Find a 95 percent confidence interval on the parameter Beta1"
   ]
  },
  {
   "cell_type": "markdown",
   "id": "CZjaki3nCEzH",
   "metadata": {
    "id": "CZjaki3nCEzH"
   },
   "source": [
    "### 95 percent confidence interval on the parameter Beta1 มีค่า 1.6100 ถึง\t2.1473"
   ]
  },
  {
   "cell_type": "markdown",
   "id": "3be7b278",
   "metadata": {
    "id": "3be7b278"
   },
   "source": [
    "### 2. A sample of 25 brands of cigarette has been tested for tar and nicotine contents, carbonmonoxide (mgs) emitted by cigarette smoke, and cigarette weight (g). Past studies have shown that the amount CO emitted increases with the tar and nicotine content."
   ]
  },
  {
   "cell_type": "code",
   "execution_count": 6,
   "id": "e8d31103",
   "metadata": {
    "colab": {
     "base_uri": "https://localhost:8080/",
     "height": 203
    },
    "id": "e8d31103",
    "outputId": "d7a14aa3-e10d-4eb5-afbc-8b500e8ef5ba"
   },
   "outputs": [
    {
     "data": {
      "text/html": [
       "<div>\n",
       "<style scoped>\n",
       "    .dataframe tbody tr th:only-of-type {\n",
       "        vertical-align: middle;\n",
       "    }\n",
       "\n",
       "    .dataframe tbody tr th {\n",
       "        vertical-align: top;\n",
       "    }\n",
       "\n",
       "    .dataframe thead th {\n",
       "        text-align: right;\n",
       "    }\n",
       "</style>\n",
       "<table border=\"1\" class=\"dataframe\">\n",
       "  <thead>\n",
       "    <tr style=\"text-align: right;\">\n",
       "      <th></th>\n",
       "      <th>TAR</th>\n",
       "      <th>NICOTINE</th>\n",
       "      <th>WEIGHT</th>\n",
       "      <th>CO</th>\n",
       "    </tr>\n",
       "  </thead>\n",
       "  <tbody>\n",
       "    <tr>\n",
       "      <th>0</th>\n",
       "      <td>14.1</td>\n",
       "      <td>0.86</td>\n",
       "      <td>0.9853</td>\n",
       "      <td>13.6</td>\n",
       "    </tr>\n",
       "    <tr>\n",
       "      <th>1</th>\n",
       "      <td>16.0</td>\n",
       "      <td>1.06</td>\n",
       "      <td>1.0938</td>\n",
       "      <td>16.6</td>\n",
       "    </tr>\n",
       "    <tr>\n",
       "      <th>2</th>\n",
       "      <td>29.8</td>\n",
       "      <td>2.03</td>\n",
       "      <td>1.1650</td>\n",
       "      <td>23.5</td>\n",
       "    </tr>\n",
       "    <tr>\n",
       "      <th>3</th>\n",
       "      <td>8.0</td>\n",
       "      <td>0.67</td>\n",
       "      <td>0.9280</td>\n",
       "      <td>10.2</td>\n",
       "    </tr>\n",
       "    <tr>\n",
       "      <th>4</th>\n",
       "      <td>4.1</td>\n",
       "      <td>0.40</td>\n",
       "      <td>0.9462</td>\n",
       "      <td>5.4</td>\n",
       "    </tr>\n",
       "  </tbody>\n",
       "</table>\n",
       "</div>"
      ],
      "text/plain": [
       "    TAR  NICOTINE  WEIGHT    CO\n",
       "0  14.1      0.86  0.9853  13.6\n",
       "1  16.0      1.06  1.0938  16.6\n",
       "2  29.8      2.03  1.1650  23.5\n",
       "3   8.0      0.67  0.9280  10.2\n",
       "4   4.1      0.40  0.9462   5.4"
      ]
     },
     "execution_count": 6,
     "metadata": {},
     "output_type": "execute_result"
    }
   ],
   "source": [
    "co_data = pd.read_excel('data/lect02-lin-reg.xlsx', sheet_name='CO-smoke', header=0)\n",
    "co_data.head()"
   ]
  },
  {
   "cell_type": "markdown",
   "id": "1419cf42",
   "metadata": {
    "id": "1419cf42"
   },
   "source": [
    "### a) Model the CO emitted by cigratte as a linear function of the other three quantities. Determine SSR, SSE, R?, adjusted R2, and show the fitted model coefficients."
   ]
  },
  {
   "cell_type": "code",
   "execution_count": 9,
   "id": "46d97a79",
   "metadata": {
    "colab": {
     "base_uri": "https://localhost:8080/"
    },
    "id": "46d97a79",
    "outputId": "695ce3ac-5f50-48a3-fee9-533262012617"
   },
   "outputs": [
    {
     "data": {
      "text/plain": [
       "TAR         0.936701\n",
       "NICOTINE   -2.495939\n",
       "WEIGHT      3.349901\n",
       "dtype: float64"
      ]
     },
     "execution_count": 9,
     "metadata": {},
     "output_type": "execute_result"
    }
   ],
   "source": [
    "from statsmodels.formula.api import ols\n",
    "\n",
    "#formula = 'CO ~ TAR + NICOTINE + WEIGHT'\n",
    "formula = 'CO ~ TAR + NICOTINE + WEIGHT - 1'\n",
    "\n",
    "co_lm = ols(formula, data=co_data).fit()\n",
    "co_lm.params"
   ]
  },
  {
   "cell_type": "code",
   "execution_count": 22,
   "id": "1734b558",
   "metadata": {
    "colab": {
     "base_uri": "https://localhost:8080/"
    },
    "id": "1734b558",
    "outputId": "da96dc91-97ef-4520-82c0-f6b97f4e500b"
   },
   "outputs": [
    {
     "name": "stdout",
     "output_type": "stream",
     "text": [
      "Sum of Squared Regression (SSR): 4417.24\n",
      "Sum of Squared Errors (SSE): 45.68\n",
      "R-squared: 0.990\n",
      "Adjusted R-squared: 0.988\n"
     ]
    }
   ],
   "source": [
    "print(\"Sum of Squared Regression (SSR): {:.2f}\".format(co_lm.ess)) # Explained sum of squares\n",
    "print(\"Sum of Squared Errors (SSE): {:.2f}\".format(co_lm.ssr)) # Sum of Squares Residuals\n",
    "print(\"R-squared: {:.3f}\".format(co_lm.rsquared))\n",
    "print(\"Adjusted R-squared: {:.3f}\".format(co_lm.rsquared_adj))"
   ]
  },
  {
   "cell_type": "markdown",
   "id": "d8bd1d52",
   "metadata": {
    "id": "d8bd1d52"
   },
   "source": [
    "### b) Which variables are significant and not significant in the model ?"
   ]
  },
  {
   "cell_type": "code",
   "execution_count": 10,
   "id": "cfc7bc0f",
   "metadata": {
    "colab": {
     "base_uri": "https://localhost:8080/",
     "height": 328
    },
    "id": "cfc7bc0f",
    "outputId": "a1c3995b-da62-4ba4-c341-e57264a21fab"
   },
   "outputs": [
    {
     "data": {
      "text/html": [
       "<table class=\"simpletable\">\n",
       "<tr>\n",
       "          <td>Model:</td>                 <td>OLS</td>       <td>Adj. R-squared (uncentered):</td>   <td>0.988</td> \n",
       "</tr>\n",
       "<tr>\n",
       "    <td>Dependent Variable:</td>          <td>CO</td>                    <td>AIC:</td>              <td>92.0171</td>\n",
       "</tr>\n",
       "<tr>\n",
       "           <td>Date:</td>          <td>2021-09-11 15:50</td>             <td>BIC:</td>              <td>95.6737</td>\n",
       "</tr>\n",
       "<tr>\n",
       "     <td>No. Observations:</td>           <td>25</td>               <td>Log-Likelihood:</td>        <td>-43.009</td>\n",
       "</tr>\n",
       "<tr>\n",
       "         <td>Df Model:</td>                <td>3</td>                <td>F-statistic:</td>           <td>709.1</td> \n",
       "</tr>\n",
       "<tr>\n",
       "       <td>Df Residuals:</td>             <td>22</td>             <td>Prob (F-statistic):</td>     <td>4.97e-22</td>\n",
       "</tr>\n",
       "<tr>\n",
       "  <td>R-squared (uncentered):</td>       <td>0.990</td>                 <td>Scale:</td>             <td>2.0764</td> \n",
       "</tr>\n",
       "</table>\n",
       "<table class=\"simpletable\">\n",
       "<tr>\n",
       "      <td></td>      <th>Coef.</th>  <th>Std.Err.</th>    <th>t</th>     <th>P>|t|</th>  <th>[0.025</th>  <th>0.975]</th>\n",
       "</tr>\n",
       "<tr>\n",
       "  <th>TAR</th>      <td>0.9367</td>   <td>0.2398</td>  <td>3.9056</td>  <td>0.0008</td>  <td>0.4393</td>  <td>1.4341</td>\n",
       "</tr>\n",
       "<tr>\n",
       "  <th>NICOTINE</th> <td>-2.4959</td>  <td>3.8850</td>  <td>-0.6425</td> <td>0.5272</td> <td>-10.5529</td> <td>5.5610</td>\n",
       "</tr>\n",
       "<tr>\n",
       "  <th>WEIGHT</th>   <td>3.3499</td>   <td>0.9661</td>  <td>3.4675</td>  <td>0.0022</td>  <td>1.3464</td>  <td>5.3534</td>\n",
       "</tr>\n",
       "</table>\n",
       "<table class=\"simpletable\">\n",
       "<tr>\n",
       "     <td>Omnibus:</td>     <td>0.689</td>  <td>Durbin-Watson:</td>   <td>2.938</td>\n",
       "</tr>\n",
       "<tr>\n",
       "  <td>Prob(Omnibus):</td>  <td>0.708</td> <td>Jarque-Bera (JB):</td> <td>0.380</td>\n",
       "</tr>\n",
       "<tr>\n",
       "       <td>Skew:</td>     <td>-0.298</td>     <td>Prob(JB):</td>     <td>0.827</td>\n",
       "</tr>\n",
       "<tr>\n",
       "     <td>Kurtosis:</td>    <td>2.896</td>  <td>Condition No.:</td>    <td>184</td> \n",
       "</tr>\n",
       "</table>"
      ],
      "text/plain": [
       "<class 'statsmodels.iolib.summary2.Summary'>\n",
       "\"\"\"\n",
       "                       Results: Ordinary least squares\n",
       "==============================================================================\n",
       "Model:                  OLS              Adj. R-squared (uncentered): 0.988   \n",
       "Dependent Variable:     CO               AIC:                         92.0171 \n",
       "Date:                   2021-09-11 15:50 BIC:                         95.6737 \n",
       "No. Observations:       25               Log-Likelihood:              -43.009 \n",
       "Df Model:               3                F-statistic:                 709.1   \n",
       "Df Residuals:           22               Prob (F-statistic):          4.97e-22\n",
       "R-squared (uncentered): 0.990            Scale:                       2.0764  \n",
       "----------------------------------------------------------------------------------\n",
       "                Coef.      Std.Err.        t        P>|t|       [0.025      0.975]\n",
       "----------------------------------------------------------------------------------\n",
       "TAR             0.9367       0.2398      3.9056     0.0008       0.4393     1.4341\n",
       "NICOTINE       -2.4959       3.8850     -0.6425     0.5272     -10.5529     5.5610\n",
       "WEIGHT          3.3499       0.9661      3.4675     0.0022       1.3464     5.3534\n",
       "------------------------------------------------------------------------------\n",
       "Omnibus:                  0.689             Durbin-Watson:               2.938\n",
       "Prob(Omnibus):            0.708             Jarque-Bera (JB):            0.380\n",
       "Skew:                     -0.298            Prob(JB):                    0.827\n",
       "Kurtosis:                 2.896             Condition No.:               184  \n",
       "==============================================================================\n",
       "\n",
       "\"\"\""
      ]
     },
     "execution_count": 10,
     "metadata": {},
     "output_type": "execute_result"
    }
   ],
   "source": [
    "co_lm.summary2()"
   ]
  },
  {
   "cell_type": "markdown",
   "id": "4db4d3b2",
   "metadata": {
    "id": "4db4d3b2"
   },
   "source": [
    "#### significant variables : Tar, Weight Not significant variables : Nicotine"
   ]
  },
  {
   "cell_type": "markdown",
   "id": "e9f66cf5",
   "metadata": {
    "id": "e9f66cf5"
   },
   "source": [
    "### c)  Remove the most significant variable in a) and refit the model. How do the model coefficients and your conclusion about the significance of variables change compared to a)?"
   ]
  },
  {
   "cell_type": "code",
   "execution_count": 24,
   "id": "eae572a6",
   "metadata": {
    "colab": {
     "base_uri": "https://localhost:8080/"
    },
    "id": "eae572a6",
    "outputId": "60bba8cc-9d69-4c32-c1c9-65fec45ff930"
   },
   "outputs": [
    {
     "data": {
      "text/plain": [
       "NICOTINE    12.251221\n",
       "WEIGHT       1.834121\n",
       "dtype: float64"
      ]
     },
     "execution_count": 24,
     "metadata": {},
     "output_type": "execute_result"
    }
   ],
   "source": [
    "from statsmodels.formula.api import ols\n",
    "\n",
    "#formula = 'CO ~ TAR + NICOTINE + WEIGHT'\n",
    "formula = 'CO ~ NICOTINE + WEIGHT - 1'\n",
    "\n",
    "co_lm = ols(formula, data=co_data).fit()\n",
    "co_lm.params"
   ]
  },
  {
   "cell_type": "code",
   "execution_count": 25,
   "id": "cqQOUhqZD5Lj",
   "metadata": {
    "colab": {
     "base_uri": "https://localhost:8080/",
     "height": 307
    },
    "id": "cqQOUhqZD5Lj",
    "outputId": "d7d7412a-f381-4b9f-e5cb-151a67a0b524"
   },
   "outputs": [
    {
     "data": {
      "text/html": [
       "<table class=\"simpletable\">\n",
       "<tr>\n",
       "          <td>Model:</td>                 <td>OLS</td>       <td>Adj. R-squared (uncentered):</td>   <td>0.981</td> \n",
       "</tr>\n",
       "<tr>\n",
       "    <td>Dependent Variable:</td>          <td>CO</td>                    <td>AIC:</td>             <td>103.1850</td>\n",
       "</tr>\n",
       "<tr>\n",
       "           <td>Date:</td>          <td>2021-08-29 13:23</td>             <td>BIC:</td>             <td>105.6227</td>\n",
       "</tr>\n",
       "<tr>\n",
       "     <td>No. Observations:</td>           <td>25</td>               <td>Log-Likelihood:</td>        <td>-49.592</td>\n",
       "</tr>\n",
       "<tr>\n",
       "         <td>Df Model:</td>                <td>2</td>                <td>F-statistic:</td>           <td>652.0</td> \n",
       "</tr>\n",
       "<tr>\n",
       "       <td>Df Residuals:</td>             <td>23</td>             <td>Prob (F-statistic):</td>     <td>5.58e-21</td>\n",
       "</tr>\n",
       "<tr>\n",
       "  <td>R-squared (uncentered):</td>       <td>0.983</td>                 <td>Scale:</td>             <td>3.3632</td> \n",
       "</tr>\n",
       "</table>\n",
       "<table class=\"simpletable\">\n",
       "<tr>\n",
       "      <td></td>      <th>Coef.</th>  <th>Std.Err.</th>    <th>t</th>     <th>P>|t|</th> <th>[0.025</th>  <th>0.975]</th> \n",
       "</tr>\n",
       "<tr>\n",
       "  <th>NICOTINE</th> <td>12.2512</td>  <td>1.1636</td>  <td>10.5286</td> <td>0.0000</td> <td>9.8441</td>  <td>14.6583</td>\n",
       "</tr>\n",
       "<tr>\n",
       "  <th>WEIGHT</th>   <td>1.8341</td>   <td>1.1260</td>  <td>1.6289</td>  <td>0.1169</td> <td>-0.4951</td> <td>4.1633</td> \n",
       "</tr>\n",
       "</table>\n",
       "<table class=\"simpletable\">\n",
       "<tr>\n",
       "     <td>Omnibus:</td>    <td>0.142</td>  <td>Durbin-Watson:</td>   <td>2.747</td>\n",
       "</tr>\n",
       "<tr>\n",
       "  <td>Prob(Omnibus):</td> <td>0.932</td> <td>Jarque-Bera (JB):</td> <td>0.340</td>\n",
       "</tr>\n",
       "<tr>\n",
       "       <td>Skew:</td>     <td>0.115</td>     <td>Prob(JB):</td>     <td>0.844</td>\n",
       "</tr>\n",
       "<tr>\n",
       "     <td>Kurtosis:</td>   <td>2.477</td>  <td>Condition No.:</td>     <td>6</td>  \n",
       "</tr>\n",
       "</table>"
      ],
      "text/plain": [
       "<class 'statsmodels.iolib.summary2.Summary'>\n",
       "\"\"\"\n",
       "                       Results: Ordinary least squares\n",
       "==============================================================================\n",
       "Model:                  OLS              Adj. R-squared (uncentered): 0.981   \n",
       "Dependent Variable:     CO               AIC:                         103.1850\n",
       "Date:                   2021-08-29 13:23 BIC:                         105.6227\n",
       "No. Observations:       25               Log-Likelihood:              -49.592 \n",
       "Df Model:               2                F-statistic:                 652.0   \n",
       "Df Residuals:           23               Prob (F-statistic):          5.58e-21\n",
       "R-squared (uncentered): 0.983            Scale:                       3.3632  \n",
       "----------------------------------------------------------------------------------\n",
       "                Coef.      Std.Err.        t        P>|t|       [0.025      0.975]\n",
       "----------------------------------------------------------------------------------\n",
       "NICOTINE       12.2512       1.1636     10.5286     0.0000      9.8441     14.6583\n",
       "WEIGHT          1.8341       1.1260      1.6289     0.1169     -0.4951      4.1633\n",
       "------------------------------------------------------------------------------\n",
       "Omnibus:                   0.142            Durbin-Watson:               2.747\n",
       "Prob(Omnibus):             0.932            Jarque-Bera (JB):            0.340\n",
       "Skew:                      0.115            Prob(JB):                    0.844\n",
       "Kurtosis:                  2.477            Condition No.:               6    \n",
       "==============================================================================\n",
       "\n",
       "\"\"\""
      ]
     },
     "execution_count": 25,
     "metadata": {},
     "output_type": "execute_result"
    }
   ],
   "source": [
    "co_lm.summary2()"
   ]
  },
  {
   "cell_type": "markdown",
   "id": "3gm57UZnHgZN",
   "metadata": {
    "id": "3gm57UZnHgZN"
   },
   "source": [
    "#### จากโมเดล A มี variable 2 ตัวที่ Significant คือ Tar กับ Weight และตัวที่ Not significant คือ Nicotine ซึ่งมีค่า coefficients เท่ากับ -2.4959 แต่เมื่อเปลี่ยนโมเดลใหม่โดยลบ most significant variable ซึ่งคือ Tar ออกไปทำให้ Nicotine กลายเป็น most significant variable ซึ่งมีค่า coefficients เพิ่มขึ้นจากโมเดล A"
   ]
  }
 ],
 "metadata": {
  "colab": {
   "collapsed_sections": [],
   "name": "Linear Regression.ipynb",
   "provenance": []
  },
  "kernelspec": {
   "display_name": "Python 3 (ipykernel)",
   "language": "python",
   "name": "python3"
  },
  "language_info": {
   "codemirror_mode": {
    "name": "ipython",
    "version": 3
   },
   "file_extension": ".py",
   "mimetype": "text/x-python",
   "name": "python",
   "nbconvert_exporter": "python",
   "pygments_lexer": "ipython3",
   "version": "3.8.0"
  }
 },
 "nbformat": 4,
 "nbformat_minor": 5
}
