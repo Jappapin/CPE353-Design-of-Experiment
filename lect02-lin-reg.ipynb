{
 "cells": [
  {
   "cell_type": "markdown",
   "metadata": {
    "toc": true
   },
   "source": [
    "<h1>Table of Contents<span class=\"tocSkip\"></span></h1>\n",
    "<div class=\"toc\"><ul class=\"toc-item\"><li><span><a href=\"#OLS-Regression\" data-toc-modified-id=\"OLS-Regression-1\"><span class=\"toc-item-num\">1&nbsp;&nbsp;</span>OLS Regression</a></span></li><li><span><a href=\"#Your-Turn----Activity-I:-Murder-rate-model\" data-toc-modified-id=\"Your-Turn----Activity-I:-Murder-rate-model-2\"><span class=\"toc-item-num\">2&nbsp;&nbsp;</span>Your Turn -- Activity I: Murder rate model</a></span></li><li><span><a href=\"#Your-Turn----Activity-II:-Partial-F-Test\" data-toc-modified-id=\"Your-Turn----Activity-II:-Partial-F-Test-3\"><span class=\"toc-item-num\">3&nbsp;&nbsp;</span>Your Turn -- Activity II: Partial F-Test</a></span></li></ul></div>"
   ]
  },
  {
   "cell_type": "markdown",
   "metadata": {},
   "source": [
    "## OLS Regression"
   ]
  },
  {
   "cell_type": "code",
   "execution_count": 1,
   "metadata": {},
   "outputs": [
    {
     "name": "stdout",
     "output_type": "stream",
     "text": [
      "\n",
      "Enabling interactive shell outputs ...\n",
      "   Use command pass; to disable cell text outputs\n"
     ]
    }
   ],
   "source": [
    "print('\\nEnabling interactive shell outputs ...')\n",
    "print('   Use command pass; to disable cell text outputs')\n",
    "from IPython.core.interactiveshell import InteractiveShell\n",
    "InteractiveShell.ast_node_interactivity = \"all\"\n",
    "\n",
    "import warnings\n",
    "warnings.filterwarnings('ignore') \n",
    "warnings.simplefilter(action=\"ignore\",category=UserWarning)\n",
    "warnings.simplefilter(action=\"ignore\",category=FutureWarning)"
   ]
  },
  {
   "cell_type": "code",
   "execution_count": 2,
   "metadata": {
    "scrolled": true
   },
   "outputs": [
    {
     "data": {
      "text/html": [
       "<div>\n",
       "<style scoped>\n",
       "    .dataframe tbody tr th:only-of-type {\n",
       "        vertical-align: middle;\n",
       "    }\n",
       "\n",
       "    .dataframe tbody tr th {\n",
       "        vertical-align: top;\n",
       "    }\n",
       "\n",
       "    .dataframe thead th {\n",
       "        text-align: right;\n",
       "    }\n",
       "</style>\n",
       "<table border=\"1\" class=\"dataframe\">\n",
       "  <thead>\n",
       "    <tr style=\"text-align: right;\">\n",
       "      <th></th>\n",
       "      <th>Temperature</th>\n",
       "      <th>Catalyst</th>\n",
       "      <th>Viscosity</th>\n",
       "    </tr>\n",
       "  </thead>\n",
       "  <tbody>\n",
       "    <tr>\n",
       "      <th>0</th>\n",
       "      <td>80</td>\n",
       "      <td>8</td>\n",
       "      <td>2256</td>\n",
       "    </tr>\n",
       "    <tr>\n",
       "      <th>1</th>\n",
       "      <td>93</td>\n",
       "      <td>9</td>\n",
       "      <td>2340</td>\n",
       "    </tr>\n",
       "    <tr>\n",
       "      <th>2</th>\n",
       "      <td>100</td>\n",
       "      <td>10</td>\n",
       "      <td>2426</td>\n",
       "    </tr>\n",
       "    <tr>\n",
       "      <th>3</th>\n",
       "      <td>82</td>\n",
       "      <td>12</td>\n",
       "      <td>2293</td>\n",
       "    </tr>\n",
       "    <tr>\n",
       "      <th>4</th>\n",
       "      <td>90</td>\n",
       "      <td>11</td>\n",
       "      <td>2330</td>\n",
       "    </tr>\n",
       "  </tbody>\n",
       "</table>\n",
       "</div>"
      ],
      "text/plain": [
       "   Temperature  Catalyst  Viscosity\n",
       "0           80         8       2256\n",
       "1           93         9       2340\n",
       "2          100        10       2426\n",
       "3           82        12       2293\n",
       "4           90        11       2330"
      ]
     },
     "execution_count": 2,
     "metadata": {},
     "output_type": "execute_result"
    }
   ],
   "source": [
    "import pandas as pd\n",
    "\n",
    "vis_df = pd.read_excel('data/lect02-lin-reg.xlsx', sheet_name='Viscosity', header=0)\n",
    "vis_df.head()"
   ]
  },
  {
   "cell_type": "code",
   "execution_count": 3,
   "metadata": {},
   "outputs": [
    {
     "name": "stdout",
     "output_type": "stream",
     "text": [
      "    const  Temperature  Catalyst\n",
      "0     1.0           80         8\n",
      "1     1.0           93         9\n",
      "2     1.0          100        10\n",
      "3     1.0           82        12\n",
      "4     1.0           90        11\n",
      "5     1.0           99         8\n",
      "6     1.0           81         8\n",
      "7     1.0           96        10\n",
      "8     1.0           94        12\n",
      "9     1.0           93        11\n",
      "10    1.0           97        13\n",
      "11    1.0           95        11\n",
      "12    1.0          100         8\n",
      "13    1.0           85        12\n",
      "14    1.0           86         9\n",
      "15    1.0           87        12\n",
      "0     2256\n",
      "1     2340\n",
      "2     2426\n",
      "3     2293\n",
      "4     2330\n",
      "5     2368\n",
      "6     2250\n",
      "7     2409\n",
      "8     2364\n",
      "9     2379\n",
      "10    2440\n",
      "11    2364\n",
      "12    2404\n",
      "13    2317\n",
      "14    2309\n",
      "15    2328\n",
      "Name: Viscosity, dtype: int64\n"
     ]
    }
   ],
   "source": [
    "import statsmodels.api as sm\n",
    "\n",
    "Y = vis_df.Viscosity\n",
    "X = vis_df.drop('Viscosity', axis=1)\n",
    "Xreg = sm.add_constant(X)\n",
    "\n",
    "print(Xreg)\n",
    "print(Y)"
   ]
  },
  {
   "cell_type": "code",
   "execution_count": 4,
   "metadata": {},
   "outputs": [
    {
     "data": {
      "text/plain": [
       "const          1566.077771\n",
       "Temperature       7.621290\n",
       "Catalyst          8.584846\n",
       "dtype: float64"
      ]
     },
     "execution_count": 4,
     "metadata": {},
     "output_type": "execute_result"
    }
   ],
   "source": [
    "# Fit by using API\n",
    "vis_lm = sm.OLS(Y, Xreg).fit()\n",
    "vis_lm.params\n"
   ]
  },
  {
   "cell_type": "code",
   "execution_count": 5,
   "metadata": {},
   "outputs": [
    {
     "data": {
      "text/plain": [
       "Intercept      1566.077771\n",
       "Temperature       7.621290\n",
       "Catalyst          8.584846\n",
       "dtype: float64"
      ]
     },
     "execution_count": 5,
     "metadata": {},
     "output_type": "execute_result"
    }
   ],
   "source": [
    "# Fit by using formula\n",
    "from statsmodels.formula.api import ols\n",
    "\n",
    "formula = 'Viscosity ~ Temperature + Catalyst'\n",
    "#formula = 'Viscosity ~ Temperature + Catalyst - 1'\n",
    "\n",
    "vis_lm = ols(formula, data=vis_df).fit()\n",
    "vis_lm.params\n"
   ]
  },
  {
   "cell_type": "code",
   "execution_count": 6,
   "metadata": {},
   "outputs": [
    {
     "data": {
      "text/plain": [
       "array([2389.26425611])"
      ]
     },
     "execution_count": 6,
     "metadata": {},
     "output_type": "execute_result"
    }
   ],
   "source": [
    "# Making prediction\n",
    "import numpy as np\n",
    "\n",
    "Xk = X.iloc[[5],:]  # Get row 5 (as dataframe) \n",
    "Xreg_k = sm.add_constant(Xk, has_constant='add') \n",
    "\n",
    "\n",
    "Yk = np.array(vis_lm.predict(exog=Xreg_k))\n",
    "Yk"
   ]
  },
  {
   "cell_type": "code",
   "execution_count": 7,
   "metadata": {},
   "outputs": [
    {
     "name": "stdout",
     "output_type": "stream",
     "text": [
      "Sum of Squared Errors (SSE): 3478.85\n",
      "Sum of Squared Regression (SSR): 44157.09\n",
      "Sum of Squared Total (SST): 47635.94\n",
      "Residual df (n-p): 13\n",
      "Mean Squared errors (MSE): 267.60\n",
      "Standard Errors (Se): 16.36\n"
     ]
    }
   ],
   "source": [
    "print(\"Sum of Squared Errors (SSE): {:.2f}\".format(vis_lm.ssr)) # Sum of Squares Residuals = sse\n",
    "print(\"Sum of Squared Regression (SSR): {:.2f}\".format(vis_lm.ess)) # Explained sum of squares = ssr\n",
    "print(\"Sum of Squared Total (SST): {:.2f}\".format(vis_lm.centered_tss)) # Total sum of squares = sst\n",
    "print(\"Residual df (n-p): {:.0f}\".format(vis_lm.df_resid))\n",
    "print(\"Mean Squared errors (MSE): {:.2f}\".format(vis_lm.mse_resid))\n",
    "print(\"Standard Errors (Se): {:.2f}\".format(np.sqrt(vis_lm.mse_resid)))"
   ]
  },
  {
   "cell_type": "code",
   "execution_count": 8,
   "metadata": {
    "scrolled": true
   },
   "outputs": [
    {
     "name": "stdout",
     "output_type": "stream",
     "text": [
      "R-squared: 0.927\n",
      "Adjusted R-squared: 0.916\n"
     ]
    }
   ],
   "source": [
    "print(\"R-squared: {:.3f}\".format(vis_lm.rsquared))\n",
    "print(\"Adjusted R-squared: {:.3f}\".format(vis_lm.rsquared_adj))"
   ]
  },
  {
   "cell_type": "code",
   "execution_count": null,
   "metadata": {
    "scrolled": true
   },
   "outputs": [],
   "source": []
  },
  {
   "cell_type": "markdown",
   "metadata": {},
   "source": [
    "## Your Turn -- Activity I: Murder rate model\n"
   ]
  },
  {
   "cell_type": "code",
   "execution_count": 9,
   "metadata": {},
   "outputs": [
    {
     "data": {
      "text/html": [
       "<div>\n",
       "<style scoped>\n",
       "    .dataframe tbody tr th:only-of-type {\n",
       "        vertical-align: middle;\n",
       "    }\n",
       "\n",
       "    .dataframe tbody tr th {\n",
       "        vertical-align: top;\n",
       "    }\n",
       "\n",
       "    .dataframe thead th {\n",
       "        text-align: right;\n",
       "    }\n",
       "</style>\n",
       "<table border=\"1\" class=\"dataframe\">\n",
       "  <thead>\n",
       "    <tr style=\"text-align: right;\">\n",
       "      <th></th>\n",
       "      <th>Murder</th>\n",
       "      <th>Population</th>\n",
       "      <th>Illiteracy</th>\n",
       "      <th>Income</th>\n",
       "      <th>Frost</th>\n",
       "    </tr>\n",
       "  </thead>\n",
       "  <tbody>\n",
       "    <tr>\n",
       "      <th>count</th>\n",
       "      <td>50.00000</td>\n",
       "      <td>50.000000</td>\n",
       "      <td>50.000000</td>\n",
       "      <td>50.000000</td>\n",
       "      <td>50.000000</td>\n",
       "    </tr>\n",
       "    <tr>\n",
       "      <th>mean</th>\n",
       "      <td>7.37800</td>\n",
       "      <td>4246.420000</td>\n",
       "      <td>1.170000</td>\n",
       "      <td>4435.800000</td>\n",
       "      <td>104.460000</td>\n",
       "    </tr>\n",
       "    <tr>\n",
       "      <th>std</th>\n",
       "      <td>3.69154</td>\n",
       "      <td>4464.491433</td>\n",
       "      <td>0.609533</td>\n",
       "      <td>614.469939</td>\n",
       "      <td>51.980848</td>\n",
       "    </tr>\n",
       "    <tr>\n",
       "      <th>min</th>\n",
       "      <td>1.40000</td>\n",
       "      <td>365.000000</td>\n",
       "      <td>0.500000</td>\n",
       "      <td>3098.000000</td>\n",
       "      <td>0.000000</td>\n",
       "    </tr>\n",
       "    <tr>\n",
       "      <th>25%</th>\n",
       "      <td>4.35000</td>\n",
       "      <td>1079.500000</td>\n",
       "      <td>0.625000</td>\n",
       "      <td>3992.750000</td>\n",
       "      <td>66.250000</td>\n",
       "    </tr>\n",
       "    <tr>\n",
       "      <th>50%</th>\n",
       "      <td>6.85000</td>\n",
       "      <td>2838.500000</td>\n",
       "      <td>0.950000</td>\n",
       "      <td>4519.000000</td>\n",
       "      <td>114.500000</td>\n",
       "    </tr>\n",
       "    <tr>\n",
       "      <th>75%</th>\n",
       "      <td>10.67500</td>\n",
       "      <td>4968.500000</td>\n",
       "      <td>1.575000</td>\n",
       "      <td>4813.500000</td>\n",
       "      <td>139.750000</td>\n",
       "    </tr>\n",
       "    <tr>\n",
       "      <th>max</th>\n",
       "      <td>15.10000</td>\n",
       "      <td>21198.000000</td>\n",
       "      <td>2.800000</td>\n",
       "      <td>6315.000000</td>\n",
       "      <td>188.000000</td>\n",
       "    </tr>\n",
       "  </tbody>\n",
       "</table>\n",
       "</div>"
      ],
      "text/plain": [
       "         Murder    Population  Illiteracy       Income       Frost\n",
       "count  50.00000     50.000000   50.000000    50.000000   50.000000\n",
       "mean    7.37800   4246.420000    1.170000  4435.800000  104.460000\n",
       "std     3.69154   4464.491433    0.609533   614.469939   51.980848\n",
       "min     1.40000    365.000000    0.500000  3098.000000    0.000000\n",
       "25%     4.35000   1079.500000    0.625000  3992.750000   66.250000\n",
       "50%     6.85000   2838.500000    0.950000  4519.000000  114.500000\n",
       "75%    10.67500   4968.500000    1.575000  4813.500000  139.750000\n",
       "max    15.10000  21198.000000    2.800000  6315.000000  188.000000"
      ]
     },
     "execution_count": 9,
     "metadata": {},
     "output_type": "execute_result"
    }
   ],
   "source": [
    "murder_data = pd.read_excel('data/lect02-lin-reg.xlsx', sheet_name='State murder')\n",
    "murder_data.describe(include='all')"
   ]
  },
  {
   "cell_type": "code",
   "execution_count": 10,
   "metadata": {},
   "outputs": [
    {
     "data": {
      "text/html": [
       "<div>\n",
       "<style scoped>\n",
       "    .dataframe tbody tr th:only-of-type {\n",
       "        vertical-align: middle;\n",
       "    }\n",
       "\n",
       "    .dataframe tbody tr th {\n",
       "        vertical-align: top;\n",
       "    }\n",
       "\n",
       "    .dataframe thead th {\n",
       "        text-align: right;\n",
       "    }\n",
       "</style>\n",
       "<table border=\"1\" class=\"dataframe\">\n",
       "  <thead>\n",
       "    <tr style=\"text-align: right;\">\n",
       "      <th></th>\n",
       "      <th>Murder</th>\n",
       "      <th>Population</th>\n",
       "      <th>Illiteracy</th>\n",
       "      <th>Income</th>\n",
       "      <th>Frost</th>\n",
       "    </tr>\n",
       "  </thead>\n",
       "  <tbody>\n",
       "    <tr>\n",
       "      <th>0</th>\n",
       "      <td>15.1</td>\n",
       "      <td>3615</td>\n",
       "      <td>2.1</td>\n",
       "      <td>3624</td>\n",
       "      <td>20</td>\n",
       "    </tr>\n",
       "    <tr>\n",
       "      <th>1</th>\n",
       "      <td>11.3</td>\n",
       "      <td>365</td>\n",
       "      <td>1.5</td>\n",
       "      <td>6315</td>\n",
       "      <td>152</td>\n",
       "    </tr>\n",
       "    <tr>\n",
       "      <th>2</th>\n",
       "      <td>7.8</td>\n",
       "      <td>2212</td>\n",
       "      <td>1.8</td>\n",
       "      <td>4530</td>\n",
       "      <td>15</td>\n",
       "    </tr>\n",
       "    <tr>\n",
       "      <th>3</th>\n",
       "      <td>10.1</td>\n",
       "      <td>2110</td>\n",
       "      <td>1.9</td>\n",
       "      <td>3378</td>\n",
       "      <td>65</td>\n",
       "    </tr>\n",
       "    <tr>\n",
       "      <th>4</th>\n",
       "      <td>10.3</td>\n",
       "      <td>21198</td>\n",
       "      <td>1.1</td>\n",
       "      <td>5114</td>\n",
       "      <td>20</td>\n",
       "    </tr>\n",
       "  </tbody>\n",
       "</table>\n",
       "</div>"
      ],
      "text/plain": [
       "   Murder  Population  Illiteracy  Income  Frost\n",
       "0    15.1        3615         2.1    3624     20\n",
       "1    11.3         365         1.5    6315    152\n",
       "2     7.8        2212         1.8    4530     15\n",
       "3    10.1        2110         1.9    3378     65\n",
       "4    10.3       21198         1.1    5114     20"
      ]
     },
     "execution_count": 10,
     "metadata": {},
     "output_type": "execute_result"
    }
   ],
   "source": [
    "murder_data.head()"
   ]
  },
  {
   "cell_type": "code",
   "execution_count": 11,
   "metadata": {},
   "outputs": [
    {
     "data": {
      "text/plain": [
       "Population    0.000224\n",
       "Illiteracy    4.346314\n",
       "Income        0.000251\n",
       "Frost         0.002099\n",
       "dtype: float64"
      ]
     },
     "execution_count": 11,
     "metadata": {},
     "output_type": "execute_result"
    }
   ],
   "source": [
    "formula = 'Murder ~ Population + Illiteracy + Income + Frost - 1'\n",
    "murder_lm = ols(formula, data=murder_data).fit()\n",
    "murder_lm.params"
   ]
  },
  {
   "cell_type": "code",
   "execution_count": 12,
   "metadata": {},
   "outputs": [
    {
     "name": "stdout",
     "output_type": "stream",
     "text": [
      "Sum of Squared Errors (SSE): 289.82\n",
      "Sum of Squared Regression (SSR): 3099.67\n",
      "Sum of Squared Total (SST): 667.75\n",
      "Residual df (n-p): 46\n",
      "Mean Squared errors (MSE): 6.30\n",
      "Standard Errors (Se): 2.51\n"
     ]
    }
   ],
   "source": [
    "print(\"Sum of Squared Errors (SSE): {:.2f}\".format(murder_lm.ssr)) # Sum of Squares Residuals\n",
    "print(\"Sum of Squared Regression (SSR): {:.2f}\".format(murder_lm.ess)) # Explained sum of squares\n",
    "print(\"Sum of Squared Total (SST): {:.2f}\".format(murder_lm.centered_tss)) # Total sum of squares\n",
    "print(\"Residual df (n-p): {:.0f}\".format(murder_lm.df_resid))\n",
    "print(\"Mean Squared errors (MSE): {:.2f}\".format(murder_lm.mse_resid))\n",
    "print(\"Standard Errors (Se): {:.2f}\".format(np.sqrt(murder_lm.mse_resid)))"
   ]
  },
  {
   "cell_type": "code",
   "execution_count": 13,
   "metadata": {},
   "outputs": [
    {
     "name": "stdout",
     "output_type": "stream",
     "text": [
      "R-squared: 0.914\n",
      "Adjusted R-squared: 0.907\n"
     ]
    }
   ],
   "source": [
    "print(\"R-squared: {:.3f}\".format(murder_lm.rsquared))\n",
    "print(\"Adjusted R-squared: {:.3f}\".format(murder_lm.rsquared_adj))"
   ]
  },
  {
   "cell_type": "code",
   "execution_count": 14,
   "metadata": {},
   "outputs": [
    {
     "data": {
      "text/html": [
       "<table class=\"simpletable\">\n",
       "<tr>\n",
       "          <td>Model:</td>                 <td>OLS</td>       <td>Adj. R-squared (uncentered):</td>   <td>0.907</td> \n",
       "</tr>\n",
       "<tr>\n",
       "    <td>Dependent Variable:</td>        <td>Murder</td>                  <td>AIC:</td>             <td>237.7561</td>\n",
       "</tr>\n",
       "<tr>\n",
       "           <td>Date:</td>          <td>2021-09-25 20:00</td>             <td>BIC:</td>             <td>245.4042</td>\n",
       "</tr>\n",
       "<tr>\n",
       "     <td>No. Observations:</td>           <td>50</td>               <td>Log-Likelihood:</td>        <td>-114.88</td>\n",
       "</tr>\n",
       "<tr>\n",
       "         <td>Df Model:</td>                <td>4</td>                <td>F-statistic:</td>           <td>123.0</td> \n",
       "</tr>\n",
       "<tr>\n",
       "       <td>Df Residuals:</td>             <td>46</td>             <td>Prob (F-statistic):</td>     <td>6.01e-24</td>\n",
       "</tr>\n",
       "<tr>\n",
       "  <td>R-squared (uncentered):</td>       <td>0.914</td>                 <td>Scale:</td>             <td>6.3005</td> \n",
       "</tr>\n",
       "</table>\n",
       "<table class=\"simpletable\">\n",
       "<tr>\n",
       "       <td></td>       <th>Coef.</th> <th>Std.Err.</th>    <th>t</th>    <th>P>|t|</th> <th>[0.025</th>  <th>0.975]</th>\n",
       "</tr>\n",
       "<tr>\n",
       "  <th>Population</th> <td>0.0002</td>  <td>0.0001</td>  <td>2.4938</td> <td>0.0163</td> <td>0.0000</td>  <td>0.0004</td>\n",
       "</tr>\n",
       "<tr>\n",
       "  <th>Illiteracy</th> <td>4.3463</td>  <td>0.5928</td>  <td>7.3313</td> <td>0.0000</td> <td>3.1530</td>  <td>5.5397</td>\n",
       "</tr>\n",
       "<tr>\n",
       "  <th>Income</th>     <td>0.0003</td>  <td>0.0004</td>  <td>0.7150</td> <td>0.4782</td> <td>-0.0005</td> <td>0.0010</td>\n",
       "</tr>\n",
       "<tr>\n",
       "  <th>Frost</th>      <td>0.0021</td>  <td>0.0088</td>  <td>0.2393</td> <td>0.8119</td> <td>-0.0156</td> <td>0.0198</td>\n",
       "</tr>\n",
       "</table>\n",
       "<table class=\"simpletable\">\n",
       "<tr>\n",
       "     <td>Omnibus:</td>    <td>2.407</td>  <td>Durbin-Watson:</td>   <td>2.314</td>\n",
       "</tr>\n",
       "<tr>\n",
       "  <td>Prob(Omnibus):</td> <td>0.300</td> <td>Jarque-Bera (JB):</td> <td>1.482</td>\n",
       "</tr>\n",
       "<tr>\n",
       "       <td>Skew:</td>     <td>0.345</td>     <td>Prob(JB):</td>     <td>0.477</td>\n",
       "</tr>\n",
       "<tr>\n",
       "     <td>Kurtosis:</td>   <td>3.485</td>  <td>Condition No.:</td>   <td>11821</td>\n",
       "</tr>\n",
       "</table>"
      ],
      "text/plain": [
       "<class 'statsmodels.iolib.summary2.Summary'>\n",
       "\"\"\"\n",
       "                       Results: Ordinary least squares\n",
       "==============================================================================\n",
       "Model:                  OLS              Adj. R-squared (uncentered): 0.907   \n",
       "Dependent Variable:     Murder           AIC:                         237.7561\n",
       "Date:                   2021-09-25 20:00 BIC:                         245.4042\n",
       "No. Observations:       50               Log-Likelihood:              -114.88 \n",
       "Df Model:               4                F-statistic:                 123.0   \n",
       "Df Residuals:           46               Prob (F-statistic):          6.01e-24\n",
       "R-squared (uncentered): 0.914            Scale:                       6.3005  \n",
       "----------------------------------------------------------------------------------\n",
       "                  Coef.      Std.Err.       t        P>|t|       [0.025     0.975]\n",
       "----------------------------------------------------------------------------------\n",
       "Population        0.0002       0.0001     2.4938     0.0163      0.0000     0.0004\n",
       "Illiteracy        4.3463       0.5928     7.3313     0.0000      3.1530     5.5397\n",
       "Income            0.0003       0.0004     0.7150     0.4782     -0.0005     0.0010\n",
       "Frost             0.0021       0.0088     0.2393     0.8119     -0.0156     0.0198\n",
       "------------------------------------------------------------------------------\n",
       "Omnibus:                   2.407            Durbin-Watson:               2.314\n",
       "Prob(Omnibus):             0.300            Jarque-Bera (JB):            1.482\n",
       "Skew:                      0.345            Prob(JB):                    0.477\n",
       "Kurtosis:                  3.485            Condition No.:               11821\n",
       "==============================================================================\n",
       "* The condition number is large (1e+04). This might indicate\n",
       "strong multicollinearity or other numerical problems.\n",
       "\"\"\""
      ]
     },
     "execution_count": 14,
     "metadata": {},
     "output_type": "execute_result"
    }
   ],
   "source": [
    "murder_lm.summary2()"
   ]
  },
  {
   "cell_type": "markdown",
   "metadata": {},
   "source": [
    "## Your Turn -- Activity II: Partial F-Test"
   ]
  },
  {
   "cell_type": "code",
   "execution_count": 15,
   "metadata": {},
   "outputs": [
    {
     "data": {
      "text/html": [
       "<div>\n",
       "<style scoped>\n",
       "    .dataframe tbody tr th:only-of-type {\n",
       "        vertical-align: middle;\n",
       "    }\n",
       "\n",
       "    .dataframe tbody tr th {\n",
       "        vertical-align: top;\n",
       "    }\n",
       "\n",
       "    .dataframe thead th {\n",
       "        text-align: right;\n",
       "    }\n",
       "</style>\n",
       "<table border=\"1\" class=\"dataframe\">\n",
       "  <thead>\n",
       "    <tr style=\"text-align: right;\">\n",
       "      <th></th>\n",
       "      <th>Force</th>\n",
       "      <th>Power</th>\n",
       "      <th>Temperature</th>\n",
       "      <th>Time</th>\n",
       "      <th>Strength</th>\n",
       "    </tr>\n",
       "  </thead>\n",
       "  <tbody>\n",
       "    <tr>\n",
       "      <th>0</th>\n",
       "      <td>30</td>\n",
       "      <td>60</td>\n",
       "      <td>175</td>\n",
       "      <td>15</td>\n",
       "      <td>26.2</td>\n",
       "    </tr>\n",
       "    <tr>\n",
       "      <th>1</th>\n",
       "      <td>40</td>\n",
       "      <td>60</td>\n",
       "      <td>175</td>\n",
       "      <td>15</td>\n",
       "      <td>26.3</td>\n",
       "    </tr>\n",
       "    <tr>\n",
       "      <th>2</th>\n",
       "      <td>30</td>\n",
       "      <td>90</td>\n",
       "      <td>175</td>\n",
       "      <td>15</td>\n",
       "      <td>39.8</td>\n",
       "    </tr>\n",
       "    <tr>\n",
       "      <th>3</th>\n",
       "      <td>40</td>\n",
       "      <td>90</td>\n",
       "      <td>175</td>\n",
       "      <td>15</td>\n",
       "      <td>39.7</td>\n",
       "    </tr>\n",
       "    <tr>\n",
       "      <th>4</th>\n",
       "      <td>30</td>\n",
       "      <td>60</td>\n",
       "      <td>225</td>\n",
       "      <td>15</td>\n",
       "      <td>38.6</td>\n",
       "    </tr>\n",
       "  </tbody>\n",
       "</table>\n",
       "</div>"
      ],
      "text/plain": [
       "   Force  Power  Temperature  Time  Strength\n",
       "0     30     60          175    15      26.2\n",
       "1     40     60          175    15      26.3\n",
       "2     30     90          175    15      39.8\n",
       "3     40     90          175    15      39.7\n",
       "4     30     60          225    15      38.6"
      ]
     },
     "execution_count": 15,
     "metadata": {},
     "output_type": "execute_result"
    }
   ],
   "source": [
    "shear_df = pd.read_excel('data/lect02-lin-reg.xlsx', sheet_name='Strength')\n",
    "shear_df.head()"
   ]
  },
  {
   "cell_type": "code",
   "execution_count": 16,
   "metadata": {},
   "outputs": [
    {
     "data": {
      "text/html": [
       "<table class=\"simpletable\">\n",
       "<tr>\n",
       "        <td>Model:</td>               <td>OLS</td>         <td>Adj. R-squared:</td>     <td>0.668</td> \n",
       "</tr>\n",
       "<tr>\n",
       "  <td>Dependent Variable:</td>     <td>Strength</td>            <td>AIC:</td>         <td>188.0994</td>\n",
       "</tr>\n",
       "<tr>\n",
       "         <td>Date:</td>        <td>2021-09-25 20:00</td>        <td>BIC:</td>         <td>195.1053</td>\n",
       "</tr>\n",
       "<tr>\n",
       "   <td>No. Observations:</td>         <td>30</td>          <td>Log-Likelihood:</td>    <td>-89.050</td>\n",
       "</tr>\n",
       "<tr>\n",
       "       <td>Df Model:</td>              <td>4</td>           <td>F-statistic:</td>       <td>15.60</td> \n",
       "</tr>\n",
       "<tr>\n",
       "     <td>Df Residuals:</td>           <td>25</td>        <td>Prob (F-statistic):</td> <td>1.59e-06</td>\n",
       "</tr>\n",
       "<tr>\n",
       "      <td>R-squared:</td>            <td>0.714</td>            <td>Scale:</td>         <td>26.605</td> \n",
       "</tr>\n",
       "</table>\n",
       "<table class=\"simpletable\">\n",
       "<tr>\n",
       "       <td></td>         <th>Coef.</th>  <th>Std.Err.</th>    <th>t</th>     <th>P>|t|</th>  <th>[0.025</th>   <th>0.975]</th> \n",
       "</tr>\n",
       "<tr>\n",
       "  <th>Intercept</th>   <td>-37.4767</td>  <td>13.0996</td> <td>-2.8609</td> <td>0.0084</td> <td>-64.4559</td> <td>-10.4974</td>\n",
       "</tr>\n",
       "<tr>\n",
       "  <th>Force</th>        <td>0.2117</td>   <td>0.2106</td>  <td>1.0052</td>  <td>0.3244</td>  <td>-0.2220</td>  <td>0.6454</td> \n",
       "</tr>\n",
       "<tr>\n",
       "  <th>Power</th>        <td>0.4983</td>   <td>0.0702</td>  <td>7.0997</td>  <td>0.0000</td>  <td>0.3538</td>   <td>0.6429</td> \n",
       "</tr>\n",
       "<tr>\n",
       "  <th>Temperature</th>  <td>0.1297</td>   <td>0.0421</td>  <td>3.0789</td>  <td>0.0050</td>  <td>0.0429</td>   <td>0.2164</td> \n",
       "</tr>\n",
       "<tr>\n",
       "  <th>Time</th>         <td>0.2583</td>   <td>0.2106</td>  <td>1.2268</td>  <td>0.2313</td>  <td>-0.1754</td>  <td>0.6920</td> \n",
       "</tr>\n",
       "</table>\n",
       "<table class=\"simpletable\">\n",
       "<tr>\n",
       "     <td>Omnibus:</td>     <td>1.712</td>  <td>Durbin-Watson:</td>   <td>2.261</td>\n",
       "</tr>\n",
       "<tr>\n",
       "  <td>Prob(Omnibus):</td>  <td>0.425</td> <td>Jarque-Bera (JB):</td> <td>1.156</td>\n",
       "</tr>\n",
       "<tr>\n",
       "       <td>Skew:</td>     <td>-0.480</td>     <td>Prob(JB):</td>     <td>0.561</td>\n",
       "</tr>\n",
       "<tr>\n",
       "     <td>Kurtosis:</td>    <td>2.965</td>  <td>Condition No.:</td>   <td>3038</td> \n",
       "</tr>\n",
       "</table>"
      ],
      "text/plain": [
       "<class 'statsmodels.iolib.summary2.Summary'>\n",
       "\"\"\"\n",
       "                 Results: Ordinary least squares\n",
       "=================================================================\n",
       "Model:              OLS              Adj. R-squared:     0.668   \n",
       "Dependent Variable: Strength         AIC:                188.0994\n",
       "Date:               2021-09-25 20:00 BIC:                195.1053\n",
       "No. Observations:   30               Log-Likelihood:     -89.050 \n",
       "Df Model:           4                F-statistic:        15.60   \n",
       "Df Residuals:       25               Prob (F-statistic): 1.59e-06\n",
       "R-squared:          0.714            Scale:              26.605  \n",
       "-----------------------------------------------------------------\n",
       "                Coef.   Std.Err.    t    P>|t|   [0.025   0.975] \n",
       "-----------------------------------------------------------------\n",
       "Intercept      -37.4767  13.0996 -2.8609 0.0084 -64.4559 -10.4974\n",
       "Force            0.2117   0.2106  1.0052 0.3244  -0.2220   0.6454\n",
       "Power            0.4983   0.0702  7.0997 0.0000   0.3538   0.6429\n",
       "Temperature      0.1297   0.0421  3.0789 0.0050   0.0429   0.2164\n",
       "Time             0.2583   0.2106  1.2268 0.2313  -0.1754   0.6920\n",
       "-----------------------------------------------------------------\n",
       "Omnibus:               1.712        Durbin-Watson:          2.261\n",
       "Prob(Omnibus):         0.425        Jarque-Bera (JB):       1.156\n",
       "Skew:                  -0.480       Prob(JB):               0.561\n",
       "Kurtosis:              2.965        Condition No.:          3038 \n",
       "=================================================================\n",
       "* The condition number is large (3e+03). This might indicate\n",
       "strong multicollinearity or other numerical problems.\n",
       "\"\"\""
      ]
     },
     "execution_count": 16,
     "metadata": {},
     "output_type": "execute_result"
    }
   ],
   "source": [
    "formula = 'Strength ~ Force + Power + Temperature + Time'\n",
    "shear_lm = ols(formula, data=shear_df).fit()\n",
    "shear_lm.summary2()"
   ]
  },
  {
   "cell_type": "code",
   "execution_count": 17,
   "metadata": {},
   "outputs": [
    {
     "data": {
      "text/html": [
       "<table class=\"simpletable\">\n",
       "<tr>\n",
       "        <td>Model:</td>               <td>OLS</td>         <td>Adj. R-squared:</td>     <td>0.662</td> \n",
       "</tr>\n",
       "<tr>\n",
       "  <td>Dependent Variable:</td>     <td>Strength</td>            <td>AIC:</td>         <td>186.9755</td>\n",
       "</tr>\n",
       "<tr>\n",
       "         <td>Date:</td>        <td>2021-09-25 20:00</td>        <td>BIC:</td>         <td>191.1791</td>\n",
       "</tr>\n",
       "<tr>\n",
       "   <td>No. Observations:</td>         <td>30</td>          <td>Log-Likelihood:</td>    <td>-90.488</td>\n",
       "</tr>\n",
       "<tr>\n",
       "       <td>Df Model:</td>              <td>2</td>           <td>F-statistic:</td>       <td>29.38</td> \n",
       "</tr>\n",
       "<tr>\n",
       "     <td>Df Residuals:</td>           <td>27</td>        <td>Prob (F-statistic):</td> <td>1.67e-07</td>\n",
       "</tr>\n",
       "<tr>\n",
       "      <td>R-squared:</td>            <td>0.685</td>            <td>Scale:</td>         <td>27.113</td> \n",
       "</tr>\n",
       "</table>\n",
       "<table class=\"simpletable\">\n",
       "<tr>\n",
       "       <td></td>         <th>Coef.</th>  <th>Std.Err.</th>    <th>t</th>     <th>P>|t|</th>  <th>[0.025</th>  <th>0.975]</th> \n",
       "</tr>\n",
       "<tr>\n",
       "  <th>Intercept</th>   <td>-24.9017</td>  <td>10.0721</td> <td>-2.4723</td> <td>0.0200</td> <td>-45.5678</td> <td>-4.2355</td>\n",
       "</tr>\n",
       "<tr>\n",
       "  <th>Power</th>        <td>0.4983</td>   <td>0.0709</td>  <td>7.0328</td>  <td>0.0000</td>  <td>0.3529</td>  <td>0.6437</td> \n",
       "</tr>\n",
       "<tr>\n",
       "  <th>Temperature</th>  <td>0.1297</td>   <td>0.0425</td>  <td>3.0499</td>  <td>0.0051</td>  <td>0.0424</td>  <td>0.2169</td> \n",
       "</tr>\n",
       "</table>\n",
       "<table class=\"simpletable\">\n",
       "<tr>\n",
       "     <td>Omnibus:</td>     <td>0.289</td>  <td>Durbin-Watson:</td>   <td>2.351</td>\n",
       "</tr>\n",
       "<tr>\n",
       "  <td>Prob(Omnibus):</td>  <td>0.866</td> <td>Jarque-Bera (JB):</td> <td>0.086</td>\n",
       "</tr>\n",
       "<tr>\n",
       "       <td>Skew:</td>     <td>-0.127</td>     <td>Prob(JB):</td>     <td>0.958</td>\n",
       "</tr>\n",
       "<tr>\n",
       "     <td>Kurtosis:</td>    <td>2.935</td>  <td>Condition No.:</td>   <td>2275</td> \n",
       "</tr>\n",
       "</table>"
      ],
      "text/plain": [
       "<class 'statsmodels.iolib.summary2.Summary'>\n",
       "\"\"\"\n",
       "                 Results: Ordinary least squares\n",
       "=================================================================\n",
       "Model:              OLS              Adj. R-squared:     0.662   \n",
       "Dependent Variable: Strength         AIC:                186.9755\n",
       "Date:               2021-09-25 20:00 BIC:                191.1791\n",
       "No. Observations:   30               Log-Likelihood:     -90.488 \n",
       "Df Model:           2                F-statistic:        29.38   \n",
       "Df Residuals:       27               Prob (F-statistic): 1.67e-07\n",
       "R-squared:          0.685            Scale:              27.113  \n",
       "-----------------------------------------------------------------\n",
       "                 Coef.   Std.Err.    t    P>|t|   [0.025   0.975]\n",
       "-----------------------------------------------------------------\n",
       "Intercept       -24.9017  10.0721 -2.4723 0.0200 -45.5678 -4.2355\n",
       "Power             0.4983   0.0709  7.0328 0.0000   0.3529  0.6437\n",
       "Temperature       0.1297   0.0425  3.0499 0.0051   0.0424  0.2169\n",
       "-----------------------------------------------------------------\n",
       "Omnibus:               0.289        Durbin-Watson:          2.351\n",
       "Prob(Omnibus):         0.866        Jarque-Bera (JB):       0.086\n",
       "Skew:                  -0.127       Prob(JB):               0.958\n",
       "Kurtosis:              2.935        Condition No.:          2275 \n",
       "=================================================================\n",
       "* The condition number is large (2e+03). This might indicate\n",
       "strong multicollinearity or other numerical problems.\n",
       "\"\"\""
      ]
     },
     "execution_count": 17,
     "metadata": {},
     "output_type": "execute_result"
    }
   ],
   "source": [
    "formula2 = 'Strength ~ Power + Temperature'\n",
    "shear_lm2 = ols(formula2, data=shear_df).fit()\n",
    "shear_lm2.summary2()"
   ]
  },
  {
   "cell_type": "code",
   "execution_count": 18,
   "metadata": {},
   "outputs": [
    {
     "data": {
      "text/plain": [
       "0.30167493019555996"
      ]
     },
     "execution_count": 18,
     "metadata": {},
     "output_type": "execute_result"
    }
   ],
   "source": [
    "from scipy import stats\n",
    "result = ((shear_lm2.ssr - shear_lm.ssr)/2)/shear_lm.mse_resid\n",
    "n,p=30,5; stats.f.sf(result, 2, n-p)"
   ]
  },
  {
   "cell_type": "markdown",
   "metadata": {},
   "source": [
    "##### ค่า p-value จาก partial F test = 0.30167493019555996 มีค่ามากกว่า 0.05 ดังนั้นจึง Accept H0 ก็คือตัวแปรที่เพิ่มเข้ามาไม่ช่วยการทำนาย"
   ]
  }
 ],
 "metadata": {
  "hide_input": false,
  "kernelspec": {
   "display_name": "Python 3 (ipykernel)",
   "language": "python",
   "name": "python3"
  },
  "language_info": {
   "codemirror_mode": {
    "name": "ipython",
    "version": 3
   },
   "file_extension": ".py",
   "mimetype": "text/x-python",
   "name": "python",
   "nbconvert_exporter": "python",
   "pygments_lexer": "ipython3",
   "version": "3.8.0"
  },
  "latex_envs": {
   "LaTeX_envs_menu_present": true,
   "autoclose": true,
   "autocomplete": true,
   "bibliofile": "biblio.bib",
   "cite_by": "apalike",
   "current_citInitial": 1,
   "eqLabelWithNumbers": true,
   "eqNumInitial": 1,
   "hotkeys": {
    "equation": "Ctrl-E",
    "itemize": "Ctrl-I"
   },
   "labels_anchors": false,
   "latex_user_defs": false,
   "report_style_numbering": true,
   "user_envs_cfg": false
  },
  "toc": {
   "base_numbering": 1,
   "nav_menu": {},
   "number_sections": true,
   "sideBar": true,
   "skip_h1_title": true,
   "title_cell": "Table of Contents",
   "title_sidebar": "Contents",
   "toc_cell": true,
   "toc_position": {},
   "toc_section_display": true,
   "toc_window_display": true
  },
  "varInspector": {
   "cols": {
    "lenName": 16,
    "lenType": 16,
    "lenVar": 40
   },
   "kernels_config": {
    "python": {
     "delete_cmd_postfix": "",
     "delete_cmd_prefix": "del ",
     "library": "var_list.py",
     "varRefreshCmd": "print(var_dic_list())"
    },
    "r": {
     "delete_cmd_postfix": ") ",
     "delete_cmd_prefix": "rm(",
     "library": "var_list.r",
     "varRefreshCmd": "cat(var_dic_list()) "
    }
   },
   "types_to_exclude": [
    "module",
    "function",
    "builtin_function_or_method",
    "instance",
    "_Feature"
   ],
   "window_display": false
  }
 },
 "nbformat": 4,
 "nbformat_minor": 4
}
